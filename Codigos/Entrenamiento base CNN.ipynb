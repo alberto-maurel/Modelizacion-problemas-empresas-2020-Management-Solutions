{
 "cells": [
  {
   "cell_type": "markdown",
   "metadata": {},
   "source": [
    "# Entrenamiento de la CNN \n",
    "### Modelización de problemas matemáticos UCM 2020 - Magnagement Solutions\n",
    "#### Equipo: YOLO - You Only Lose Once"
   ]
  },
  {
   "cell_type": "code",
   "execution_count": 1,
   "metadata": {},
   "outputs": [
    {
     "name": "stderr",
     "output_type": "stream",
     "text": [
      "Using TensorFlow backend.\n"
     ]
    }
   ],
   "source": [
    "from keras.utils.np_utils import to_categorical\n",
    "import pandas as pd\n",
    "import numpy as np\n",
    "import random\n",
    "import sys\n",
    "import warnings \n",
    "import os\n",
    "warnings.filterwarnings('ignore')\n",
    "import cv2\n",
    "import time\n",
    "import keras\n",
    "from keras import layers\n",
    "from keras import models\n",
    "from keras import optimizers\n",
    "import copy\n",
    "\n",
    "import matplotlib as mpl\n",
    "\n",
    "import matplotlib.pyplot as plt\n",
    "%matplotlib inline\n",
    "\n",
    "import tensorflow as tf\n"
   ]
  },
  {
   "cell_type": "code",
   "execution_count": 2,
   "metadata": {},
   "outputs": [
    {
     "name": "stdout",
     "output_type": "stream",
     "text": [
      "1 Physical GPUs, 1 Logical GPUs\n"
     ]
    }
   ],
   "source": [
    "gpus = tf.config.experimental.list_physical_devices('GPU')\n",
    "if gpus:\n",
    "    try:\n",
    "        # Restrict TensorFlow to only use the fourth GPU\n",
    "        tf.config.experimental.set_visible_devices(gpus[0], 'GPU')\n",
    "\n",
    "        # Currently, memory growth needs to be the same across GPUs\n",
    "        for gpu in gpus:\n",
    "            tf.config.experimental.set_memory_growth(gpu, True)\n",
    "        logical_gpus = tf.config.experimental.list_logical_devices('GPU')\n",
    "        print(len(gpus), \"Physical GPUs,\", len(logical_gpus), \"Logical GPUs\")\n",
    "    except RuntimeError as e:\n",
    "        # Memory growth must be set before GPUs have been initialized\n",
    "        print(e)"
   ]
  },
  {
   "cell_type": "code",
   "execution_count": 3,
   "metadata": {},
   "outputs": [],
   "source": [
    "#Fijamos los distintos seeds para minimizar la aleatoriedad (aunque como se comenta en la memoria, no se puede eliminar por completo)\n",
    "\n",
    "# Seed value\n",
    "# Apparently you may use different seed values at each stage\n",
    "seed_value = 27\n",
    "\n",
    "# 1. Set `PYTHONHASHSEED` environment variable at a fixed value\n",
    "import os\n",
    "os.environ['PYTHONHASHSEED']=str(seed_value)\n",
    "\n",
    "# 2. Set `python` built-in pseudo-random generator at a fixed value\n",
    "import random\n",
    "random.seed(seed_value)\n",
    "\n",
    "# 3. Set `numpy` pseudo-random generator at a fixed value\n",
    "import numpy as np\n",
    "np.random.seed(seed_value)\n",
    "\n",
    "# 4. Set the `tensorflow` pseudo-random generator at a fixed value\n",
    "import tensorflow as tf\n",
    "#tf.random.set_seed(seed_value)\n",
    "# for later versions: \n",
    "tf.compat.v1.set_random_seed(seed_value)\n",
    "\n",
    "# 5. Configure a new global `tensorflow` session\n",
    "from keras import backend as K\n",
    "#session_conf = tf.ConfigProto(intra_op_parallelism_threads=1, inter_op_parallelism_threads=1)\n",
    "#sess = tf.Session(graph=tf.get_default_graph(), config=session_conf)\n",
    "#K.set_session(sess)\n",
    "# for later versions:\n",
    "session_conf = tf.compat.v1.ConfigProto(intra_op_parallelism_threads=1, inter_op_parallelism_threads=1)\n",
    "sess = tf.compat.v1.Session(graph=tf.compat.v1.get_default_graph(), config=session_conf)\n",
    "tf.compat.v1.keras.backend.set_session(sess)"
   ]
  },
  {
   "cell_type": "code",
   "execution_count": 4,
   "metadata": {},
   "outputs": [],
   "source": [
    "'''\n",
    "Función para cargar las imágenes desde los archivos:\n",
    "Argumentos: path - directorio en el que se encuentran las fotografías \n",
    "Return: X - fotografías convertidas a array\n",
    "        y - clases a las que pertenecen als fotografías\n",
    "'''\n",
    "\n",
    "def load_training_data(path):\n",
    "    X = np.empty((0,48,48,1))\n",
    "    Y = np.empty((0,1))\n",
    "    X_tmp = np.empty((0,48,48,1))\n",
    "    init_time = time.time()\n",
    "    t = time.time()\n",
    "    \n",
    "    cont = 0\n",
    "    num_current_folder = 0\n",
    "    \n",
    "    #Cargamos las carpetas por separado\n",
    "    for current_folder in os.listdir(path):\n",
    "        \n",
    "        print(\"Current folder: \" + current_folder)\n",
    "        current_folder_path = os.path.join(path, current_folder)\n",
    "        \n",
    "        for image in os.listdir(current_folder_path):\n",
    "            image_path = os.path.join(current_folder_path, image)\n",
    "\n",
    "            image_vector = cv2.imread(image_path,0)\n",
    "            \n",
    "            # Si queremos aplicar Histogram Equalization descomentamos esta línea\n",
    "            #image_vector = cv2.equalizeHist(image_vector)\n",
    "            \n",
    "            # Si queremos aplicar la técnica CLAHE descomentamos estas líneas\n",
    "            #clahe = cv2.createCLAHE(clipLimit=2.0, tileGridSize=(4,4))\n",
    "            #image_vector = clahe.apply(image_vector)\n",
    "            \n",
    "            image_vector_np = np.array(image_vector)\n",
    "            \n",
    "            X_tmp = np.append(X_tmp, image_vector_np)\n",
    "            Y = np.append(Y, num_current_folder)\n",
    "            cont = cont + 1\n",
    "\n",
    "            #Evitamos hacer appends para mejorar la velocidad de carga\n",
    "            if cont >= 100:\n",
    "                X = np.append(X, X_tmp)\n",
    "                cont = 0\n",
    "                X_tmp = np.empty((0,48,48,1))\n",
    "\n",
    "        num_current_folder = num_current_folder + 1\n",
    "\n",
    "    X = np.append(X, X_tmp)\n",
    "    X = np.reshape(X, (-1,48,48,1))\n",
    "           \n",
    "    print(\"Time needed: \" + str(time.time() - init_time))\n",
    "        \n",
    "    return X, Y"
   ]
  },
  {
   "cell_type": "markdown",
   "metadata": {},
   "source": [
    "Ahora cargamos las fotos tanto de entrenamiento como de test y dividimos el conjunto de entrenamiento en la parte que utilizaremos para entrenar y la que emplearemos para validar el funcionamiento de nuestro modelo."
   ]
  },
  {
   "cell_type": "code",
   "execution_count": 5,
   "metadata": {},
   "outputs": [
    {
     "name": "stdout",
     "output_type": "stream",
     "text": [
      "Current folder: angry\n",
      "Current folder: disgusted\n",
      "Current folder: fearful\n",
      "Current folder: happy\n",
      "Current folder: neutral\n",
      "Current folder: sad\n",
      "Current folder: surprised\n",
      "Time needed: 27.83521842956543\n",
      "Current folder: angry\n",
      "Current folder: disgusted\n",
      "Current folder: fearful\n",
      "Current folder: happy\n",
      "Current folder: neutral\n",
      "Current folder: sad\n",
      "Current folder: surprised\n",
      "Time needed: 3.433363914489746\n"
     ]
    }
   ],
   "source": [
    "from sklearn.model_selection import train_test_split\n",
    "\n",
    "X_train, Y_train = load_training_data(os.path.join('Data','train'))\n",
    "X_test, Y_test = load_training_data(os.path.join('Data','test'))\n",
    "\n",
    "#Dividimos el conjunto de entrenamiento en train y validación\n",
    "X_train, X_val, Y_train, Y_val = train_test_split(X_train, \n",
    "                                                  Y_train,\n",
    "                                                  test_size = 0.1, \n",
    "                                                  random_state = 27,\n",
    "                                                  stratify = Y_train)\n",
    "\n",
    "#En caso de querer hacer el entrenamiento definitivo, tendríamos que eliminar esta división del conjunto de entrenamiento\n",
    "\n",
    "#Va separado train y test, y yo de train separo train y validación\n",
    "#90% test\n",
    "#10% validación"
   ]
  },
  {
   "cell_type": "code",
   "execution_count": 6,
   "metadata": {},
   "outputs": [],
   "source": [
    "# Volteamos las imágenes de train, de forma que cada imagen de train pase a estar 2 veces.\n",
    "# En caso de no querer aplicar este preprocesado comentamos el código\n",
    "\n",
    "X_train_2 = np.empty((0,48,48,1));\n",
    "X_aux = np.empty((0,48,48,1));\n",
    "Y_train_2 = np.empty((0,1))\n",
    "cont = 0\n",
    "gr = 0\n",
    "\n",
    "for img, sol in zip(X_train, Y_train):\n",
    "    img.reshape(48,48)\n",
    "    flipHorizontal = copy.deepcopy(img)\n",
    "    flipHorizontal = cv2.flip(flipHorizontal, 1)\n",
    "    flipHorizontal_np = np.array(flipHorizontal)\n",
    "    \n",
    "    X_aux = np.append(X_aux, img)\n",
    "    X_aux = np.append(X_aux, flipHorizontal_np)\n",
    "    Y_train_2 = np.append(Y_train_2, sol)\n",
    "    Y_train_2 = np.append(Y_train_2, sol)\n",
    "    cont = cont + 2\n",
    "    \n",
    "    if cont > 100:\n",
    "        X_train_2 = np.append(X_train_2, X_aux)\n",
    "        X_aux = np.empty((0,48,48,1));\n",
    "        cont = 0\n",
    "        gr = gr + 1\n",
    "        \n",
    "X_train_2 = np.append(X_train_2, X_aux)\n",
    "        \n",
    "X_train_2 = np.reshape(X_train_2, (-1,48,48,1))\n",
    "\n",
    "X_train = X_train_2\n",
    "Y_train = Y_train_2"
   ]
  },
  {
   "cell_type": "code",
   "execution_count": 7,
   "metadata": {},
   "outputs": [
    {
     "name": "stdout",
     "output_type": "stream",
     "text": [
      "Tamaño del conjunto de entrenamiento: (51618, 48, 48, 1)\n",
      "Tamaño del conjunto de validación: (2868, 48, 48, 1)\n",
      "Tamaño del conjunto de test: (7178, 48, 48, 1)\n"
     ]
    }
   ],
   "source": [
    "print(\"Tamaño del conjunto de entrenamiento: \" + str(X_train.shape))\n",
    "print(\"Tamaño del conjunto de validación: \" + str(X_val.shape))\n",
    "print(\"Tamaño del conjunto de test: \" + str(X_test.shape))"
   ]
  },
  {
   "cell_type": "markdown",
   "metadata": {},
   "source": [
    "Transformamos el vector objetivo a codificacion one-hot, que es la que espera nuestra red neuronal"
   ]
  },
  {
   "cell_type": "code",
   "execution_count": 8,
   "metadata": {},
   "outputs": [],
   "source": [
    "def one_hot_encoding(Y, n = 7):\n",
    "    Y_one_hot = np.empty((0, n))\n",
    "    \n",
    "    for i in range(0, len(Y)):\n",
    "        np_oh = np.zeros(n)\n",
    "        np_oh[int(Y[i])] = 1\n",
    "        Y_one_hot = np.append(Y_one_hot, np_oh)\n",
    "        \n",
    "        \n",
    "    Y_one_hot = np.reshape(Y_one_hot, (-1, 7))\n",
    "    return Y_one_hot\n",
    "        "
   ]
  },
  {
   "cell_type": "code",
   "execution_count": 9,
   "metadata": {},
   "outputs": [
    {
     "name": "stdout",
     "output_type": "stream",
     "text": [
      "Tamaño del conjunto de entrenamiento: (51618, 7)\n",
      "Tamaño del conjunto de validación: (2868, 7)\n",
      "Tamaño del conjunto de test: (7178, 7)\n"
     ]
    }
   ],
   "source": [
    "import copy\n",
    "\n",
    "Y_test = one_hot_encoding(Y_test)\n",
    "Y_val = one_hot_encoding(Y_val)\n",
    "Y_train = one_hot_encoding(Y_train)\n",
    "\n",
    "print(\"Tamaño del conjunto de entrenamiento: \" + str(Y_train.shape))\n",
    "print(\"Tamaño del conjunto de validación: \" + str(Y_val.shape))\n",
    "print(\"Tamaño del conjunto de test: \" + str(Y_test.shape))"
   ]
  },
  {
   "cell_type": "markdown",
   "metadata": {},
   "source": [
    "## Entrenamiento de la red\n",
    "En las siguientes celdas, definimos la red, la entrenamos y la guardamos"
   ]
  },
  {
   "cell_type": "code",
   "execution_count": 10,
   "metadata": {},
   "outputs": [],
   "source": [
    "# Esta es la arquitectura final de nuestra red (la F). En caso de querer cualquier otra,\n",
    "#   simplemente cambiar por las capas adecuadas\n",
    "from tensorflow.keras import regularizers\n",
    "\n",
    "modelN = models.Sequential()\n",
    "modelN.add(layers.Conv2D(32, (3, 3), padding='same', activation='relu',\n",
    "                        input_shape=(48, 48, 1)))\n",
    "modelN.add(layers.Conv2D(32, (3, 3), padding='same', activation='relu'))\n",
    "modelN.add(layers.Conv2D(32, (3, 3), padding='same', activation='relu'))\n",
    "modelN.add(layers.AveragePooling2D(pool_size=(2, 2)))\n",
    "\n",
    "modelN.add(layers.Conv2D(64, (3, 3), padding='same', activation='relu'))\n",
    "modelN.add(layers.Conv2D(64, (3, 3), padding='same', activation='relu'))\n",
    "modelN.add(layers.Conv2D(64, (3, 3), padding='same', activation='relu'))\n",
    "modelN.add(layers.AveragePooling2D(pool_size=(2, 2)))\n",
    "\n",
    "modelN.add(layers.Conv2D(128, (3, 3), padding='same', activation='relu'))\n",
    "modelN.add(layers.Conv2D(128, (3, 3), padding='same', activation='relu'))\n",
    "modelN.add(layers.Conv2D(128, (3, 3), padding='same', activation='relu'))\n",
    "modelN.add(layers.AveragePooling2D(pool_size=(2, 2)))\n",
    "\n",
    "modelN.add(layers.Flatten())  # this converts our 3D feature maps to 1D feature vectors\n",
    "modelN.add(layers.Dense(64, activation='relu'))\n",
    "modelN.add(layers.Dense(64, activation='relu'))\n",
    "\n",
    "modelN.add(layers.Dense(7, kernel_regularizer=regularizers.l2(0.0001)))\n",
    "modelN.add(layers.Activation('linear'))"
   ]
  },
  {
   "cell_type": "code",
   "execution_count": 11,
   "metadata": {},
   "outputs": [],
   "source": [
    "# Si queremos información sobre la red descomentamos esta línea\n",
    "#modelN.summary()"
   ]
  },
  {
   "cell_type": "code",
   "execution_count": 12,
   "metadata": {
    "scrolled": true
   },
   "outputs": [
    {
     "name": "stdout",
     "output_type": "stream",
     "text": [
      "Training....\n",
      "Train on 51618 samples, validate on 7178 samples\n",
      "Epoch 1/12\n",
      "51618/51618 [==============================] - 19s 373us/step - loss: 0.4406 - accuracy: 0.3580 - val_loss: 0.3867 - val_accuracy: 0.4588\n",
      "Epoch 2/12\n",
      "51618/51618 [==============================] - 17s 327us/step - loss: 0.3621 - accuracy: 0.5013 - val_loss: 0.3413 - val_accuracy: 0.5334\n",
      "Epoch 3/12\n",
      "51618/51618 [==============================] - 17s 323us/step - loss: 0.3277 - accuracy: 0.5617 - val_loss: 0.3279 - val_accuracy: 0.5585\n",
      "Epoch 4/12\n",
      "51618/51618 [==============================] - 16s 320us/step - loss: 0.3030 - accuracy: 0.6005 - val_loss: 0.3305 - val_accuracy: 0.5659\n",
      "Epoch 5/12\n",
      "51618/51618 [==============================] - 17s 322us/step - loss: 0.2845 - accuracy: 0.6300 - val_loss: 0.3046 - val_accuracy: 0.5981\n",
      "Epoch 6/12\n",
      "51618/51618 [==============================] - 16s 319us/step - loss: 0.2661 - accuracy: 0.6597 - val_loss: 0.3026 - val_accuracy: 0.6062\n",
      "Epoch 7/12\n",
      "51618/51618 [==============================] - 17s 323us/step - loss: 0.2491 - accuracy: 0.6850 - val_loss: 0.3066 - val_accuracy: 0.6013\n",
      "Epoch 8/12\n",
      "51618/51618 [==============================] - 17s 327us/step - loss: 0.2290 - accuracy: 0.7141 - val_loss: 0.3197 - val_accuracy: 0.5925\n",
      "Epoch 9/12\n",
      "51618/51618 [==============================] - 17s 330us/step - loss: 0.2085 - accuracy: 0.7476 - val_loss: 0.3136 - val_accuracy: 0.6070\n",
      "Epoch 10/12\n",
      "51618/51618 [==============================] - 17s 327us/step - loss: 0.1865 - accuracy: 0.7757 - val_loss: 0.3248 - val_accuracy: 0.6147\n",
      "Epoch 11/12\n",
      "51618/51618 [==============================] - 17s 322us/step - loss: 0.1663 - accuracy: 0.8026 - val_loss: 0.3324 - val_accuracy: 0.6038\n",
      "Epoch 12/12\n",
      "51618/51618 [==============================] - 19s 372us/step - loss: 0.1458 - accuracy: 0.8307 - val_loss: 0.3584 - val_accuracy: 0.5950\n",
      "Tiempo de entrenamiento: 206.93084025382996\n"
     ]
    }
   ],
   "source": [
    "#Entrenamos nuestra red\n",
    "# optimizer:\n",
    "modelN.compile(loss='squared_hinge', optimizer='adam', metrics=['accuracy'])\n",
    "print ('Training....')\n",
    "\n",
    "\n",
    "#fit\n",
    "nb_epoch = 12\n",
    "batch_size = 128\n",
    "\n",
    "ini_entrenamiento = time.time()\n",
    "\n",
    "modelF = modelN.fit(X_train, Y_train, nb_epoch=nb_epoch, batch_size=batch_size,\n",
    "          validation_data=(X_test, Y_test), shuffle=True, verbose=1)\n",
    "\n",
    "print(\"Tiempo de entrenamiento: \" + str(time.time() - ini_entrenamiento))"
   ]
  },
  {
   "cell_type": "code",
   "execution_count": 13,
   "metadata": {
    "scrolled": true
   },
   "outputs": [
    {
     "data": {
      "image/png": "[encoded data removed]",
      "text/plain": [
       "<Figure size 432x288 with 1 Axes>"
      ]
     },
     "metadata": {
      "needs_background": "light"
     },
     "output_type": "display_data"
    },
    {
     "data": {
      "image/png": "[encoded data removed]",
      "text/plain": [
       "<Figure size 432x288 with 1 Axes>"
      ]
     },
     "metadata": {
      "needs_background": "light"
     },
     "output_type": "display_data"
    }
   ],
   "source": [
    "#Guardamos nuestro modelo y mostramos las gráficas con el entrenamiento\n",
    "modelN.save('modelo_guardado')\n",
    "\n",
    "acc = modelF.history['accuracy']\n",
    "val_acc = modelF.history['val_accuracy']\n",
    "loss = modelF.history['loss']\n",
    "val_loss = modelF.history['val_loss']\n",
    "\n",
    "epochs = range(len(acc))\n",
    "\n",
    "plt.plot(epochs, acc, 'bo', label='Training acc')\n",
    "plt.plot(epochs, val_acc, 'b', label='Validation acc')\n",
    "plt.title('Training and validation accuracy')\n",
    "plt.legend()\n",
    "\n",
    "plt.figure()\n",
    "\n",
    "plt.plot(epochs, loss, 'bo', label='Training loss')\n",
    "plt.plot(epochs, val_loss, 'b', label='Validation loss')\n",
    "plt.title('Training and validation loss')\n",
    "plt.legend()\n",
    "\n",
    "plt.show()"
   ]
  },
  {
   "cell_type": "markdown",
   "metadata": {},
   "source": [
    "## Observar los resultados del modelo "
   ]
  },
  {
   "cell_type": "code",
   "execution_count": 14,
   "metadata": {},
   "outputs": [],
   "source": [
    "#Si queremos cargar directamente un modelo ya entrenado, lo cargamos con esta función\n",
    "#modelN = keras.models.load_model('modelo_guardado')"
   ]
  },
  {
   "cell_type": "markdown",
   "metadata": {},
   "source": [
    "Y ahora vemos los resultados sobre los diferentes conjuntos"
   ]
  },
  {
   "cell_type": "code",
   "execution_count": 15,
   "metadata": {},
   "outputs": [
    {
     "name": "stdout",
     "output_type": "stream",
     "text": [
      "7178/7178 [==============================] - 2s 244us/step\n",
      "model accuracy: 59.50%\n"
     ]
    }
   ],
   "source": [
    "# Conjunto de test\n",
    "score = modelN.evaluate(X_test, Y_test, verbose=1)\n",
    "print (\"model %s: %.2f%%\" % (modelN.metrics_names[1], score[1]*100))"
   ]
  },
  {
   "cell_type": "code",
   "execution_count": 16,
   "metadata": {},
   "outputs": [
    {
     "name": "stdout",
     "output_type": "stream",
     "text": [
      "2868/2868 [==============================] - 1s 295us/step\n",
      "model accuracy: 59.52%\n"
     ]
    }
   ],
   "source": [
    "# Conjunto de validación\n",
    "score = modelN.evaluate(X_val, Y_val, verbose=1)\n",
    "print (\"model %s: %.2f%%\" % (modelN.metrics_names[1], score[1]*100))"
   ]
  },
  {
   "cell_type": "code",
   "execution_count": 17,
   "metadata": {},
   "outputs": [
    {
     "name": "stdout",
     "output_type": "stream",
     "text": [
      "51618/51618 [==============================] - 11s 208us/step\n",
      "model accuracy: 86.08%\n"
     ]
    }
   ],
   "source": [
    "# Conjunto de train\n",
    "score = modelN.evaluate(X_train, Y_train, verbose=1)\n",
    "print (\"model %s: %.2f%%\" % (modelN.metrics_names[1], score[1]*100))"
   ]
  },
  {
   "cell_type": "code",
   "execution_count": null,
   "metadata": {},
   "outputs": [],
   "source": []
  }
 ],
 "metadata": {
  "kernelspec": {
   "display_name": "Python 3",
   "language": "python",
   "name": "python3"
  },
  "language_info": {
   "codemirror_mode": {
    "name": "ipython",
    "version": 3
   },
   "file_extension": ".py",
   "mimetype": "text/x-python",
   "name": "python",
   "nbconvert_exporter": "python",
   "pygments_lexer": "ipython3",
   "version": "3.7.10"
  }
 },
 "nbformat": 4,
 "nbformat_minor": 4
}
