{
 "cells": [
  {
   "cell_type": "markdown",
   "metadata": {},
   "source": [
    "# Añadir clasificador Random Forest a la CNN\n",
    "### Modelización de problemas matemáticos UCM 2020 - Magnagement Solutions\n",
    "#### Equipo: YOLO - You Only Lose Once"
   ]
  },
  {
   "cell_type": "markdown",
   "metadata": {},
   "source": [
    "Importamos todas las librerías que necesitaremos durante la ejecución:"
   ]
  },
  {
   "cell_type": "code",
   "execution_count": 1,
   "metadata": {},
   "outputs": [
    {
     "name": "stderr",
     "output_type": "stream",
     "text": [
      "Using TensorFlow backend.\n"
     ]
    }
   ],
   "source": [
    "from keras.utils.np_utils import to_categorical\n",
    "import pandas as pd\n",
    "import numpy as np\n",
    "import random\n",
    "import sys\n",
    "import warnings \n",
    "import os\n",
    "warnings.filterwarnings('ignore')\n",
    "import cv2\n",
    "import time\n",
    "import keras\n",
    "import tensorflow as tf\n",
    "import tensorflow.keras\n",
    "import matplotlib as mpl\n",
    "\n",
    "import matplotlib.pyplot as plt\n",
    "%matplotlib inline\n",
    "\n",
    "import tensorflow as tf\n"
   ]
  },
  {
   "cell_type": "code",
   "execution_count": 2,
   "metadata": {},
   "outputs": [
    {
     "name": "stdout",
     "output_type": "stream",
     "text": [
      "1 Physical GPUs, 1 Logical GPUs\n"
     ]
    }
   ],
   "source": [
    "#Este código está porque los algoritmos de convolución los ejecutamos sobre una GPU y sin el código nos da problemas\n",
    "\n",
    "gpus = tf.config.experimental.list_physical_devices('GPU')\n",
    "if gpus:\n",
    "    try:\n",
    "        # Restrict TensorFlow to only use the fourth GPU\n",
    "        tf.config.experimental.set_visible_devices(gpus[0], 'GPU')\n",
    "\n",
    "        # Currently, memory growth needs to be the same across GPUs\n",
    "        for gpu in gpus:\n",
    "            tf.config.experimental.set_memory_growth(gpu, True)\n",
    "        logical_gpus = tf.config.experimental.list_logical_devices('GPU')\n",
    "        print(len(gpus), \"Physical GPUs,\", len(logical_gpus), \"Logical GPUs\")\n",
    "    except RuntimeError as e:\n",
    "        # Memory growth must be set before GPUs have been initialized\n",
    "        print(e)"
   ]
  },
  {
   "cell_type": "code",
   "execution_count": 3,
   "metadata": {},
   "outputs": [],
   "source": [
    "# Seed value\n",
    "# Apparently you may use different seed values at each stage\n",
    "seed_value = 27\n",
    "\n",
    "# 1. Set `PYTHONHASHSEED` environment variable at a fixed value\n",
    "import os\n",
    "os.environ['PYTHONHASHSEED']=str(seed_value)\n",
    "\n",
    "# 2. Set `python` built-in pseudo-random generator at a fixed value\n",
    "import random\n",
    "random.seed(seed_value)\n",
    "\n",
    "# 3. Set `numpy` pseudo-random generator at a fixed value\n",
    "import numpy as np\n",
    "np.random.seed(seed_value)\n",
    "\n",
    "# 4. Set the `tensorflow` pseudo-random generator at a fixed value\n",
    "import tensorflow as tf\n",
    "#tf.random.set_seed(seed_value)\n",
    "# for later versions: \n",
    "tf.compat.v1.set_random_seed(seed_value)\n",
    "\n",
    "# 5. Configure a new global `tensorflow` session\n",
    "from keras import backend as K\n",
    "#session_conf = tf.ConfigProto(intra_op_parallelism_threads=1, inter_op_parallelism_threads=1)\n",
    "#sess = tf.Session(graph=tf.get_default_graph(), config=session_conf)\n",
    "#K.set_session(sess)\n",
    "# for later versions:\n",
    "session_conf = tf.compat.v1.ConfigProto(intra_op_parallelism_threads=1, inter_op_parallelism_threads=1)\n",
    "sess = tf.compat.v1.Session(graph=tf.compat.v1.get_default_graph(), config=session_conf)\n",
    "tf.compat.v1.keras.backend.set_session(sess)"
   ]
  },
  {
   "cell_type": "markdown",
   "metadata": {},
   "source": [
    "Comenzaremos cargando en memoria las imágenes, lo cual hacemos mediante la función `load_training_data`:"
   ]
  },
  {
   "cell_type": "code",
   "execution_count": 4,
   "metadata": {},
   "outputs": [],
   "source": [
    "'''\n",
    "Función que carga las imágenes en memoria\n",
    "Argumentos: path - carpeta raíz donde están las carpetas con las distintas fotos de los sentimientos\n",
    "Return: X - vector con las fotos\n",
    "        Y - vector con el sentimiento de cada fotografía\n",
    "'''\n",
    "\n",
    "def load_training_data(path):\n",
    "    X = np.empty((0,48,48,1))\n",
    "    Y = np.empty((0,1))\n",
    "    X_tmp = np.empty((0,48,48,1))\n",
    "    init_time = time.time()\n",
    "    t = time.time()\n",
    "    \n",
    "    cont = 0\n",
    "    num_current_folder = 0\n",
    "    \n",
    "    #Cargamos cada carpeta por separado\n",
    "    for current_folder in os.listdir(path):\n",
    "        print(\"Current folder: \" + current_folder)\n",
    "\n",
    "        current_folder_path = os.path.join(path, current_folder)\n",
    "        \n",
    "        for image in os.listdir(current_folder_path):\n",
    "            \n",
    "            #Cargamos la imagen\n",
    "            image_path = os.path.join(current_folder_path, image)\n",
    "            image_vector = cv2.imread(image_path,0)\n",
    "            image_vector_np = np.array(image_vector)\n",
    "            \n",
    "            # Cargamos las imágenes empleando mini-batches. Si concatenamos al array X cada vez que cargamos una imagen, \n",
    "            #  estaríamos haciendo demasiadas concatenaciones ineficientes. Para ello usamos un array intermedio, que \n",
    "            #  concatenamos a X cada 100 imágenes\n",
    "            X_tmp = np.append(X_tmp, image_vector_np)\n",
    "            Y = np.append(Y, num_current_folder)\n",
    "            cont = cont + 1\n",
    "            \n",
    "            if cont == 100:\n",
    "                X = np.append(X, X_tmp)\n",
    "                cont = 0\n",
    "                X_tmp = np.empty((0,48,48,1))\n",
    "                \n",
    "        num_current_folder = num_current_folder + 1\n",
    "\n",
    "        \n",
    "    X = np.append(X, X_tmp)\n",
    "    #X /= 255\n",
    "    X = np.reshape(X, (-1,48,48,1))\n",
    "           \n",
    "    print(\"Time needed: \" + str(time.time() - init_time))\n",
    "        \n",
    "    return X, Y"
   ]
  },
  {
   "cell_type": "markdown",
   "metadata": {},
   "source": [
    "Cargamos las fotos tanto de entrenamiento como de test y dividimos el conjunto de entrenamiento en la parte que utilizaremos para entrenar (90%) y la que emplearemos para validar el funcionamiento de nuestro modelo (10%).\n",
    "\n",
    "<b>Este código está ya preparado para el entrenamiento final</b>, en el que se entrena con los conjuntos de train y validación y se prueba sobre el de test. Para hacer las pruebas con los hiperparámetros, se emplean los datos de train para entrenar y los de validación para comprobar los resultados. Para ello, habría que descomentar las líneas de validación comentadas a lo largo del documento"
   ]
  },
  {
   "cell_type": "code",
   "execution_count": 5,
   "metadata": {},
   "outputs": [
    {
     "name": "stdout",
     "output_type": "stream",
     "text": [
      "Current folder: angry\n",
      "Current folder: disgusted\n",
      "Current folder: fearful\n",
      "Current folder: happy\n",
      "Current folder: neutral\n",
      "Current folder: sad\n",
      "Current folder: surprised\n",
      "Time needed: 116.84297490119934\n",
      "Current folder: angry\n",
      "Current folder: disgusted\n",
      "Current folder: fearful\n",
      "Current folder: happy\n",
      "Current folder: neutral\n",
      "Current folder: sad\n",
      "Current folder: surprised\n",
      "Time needed: 4.435153245925903\n"
     ]
    }
   ],
   "source": [
    "from sklearn.model_selection import train_test_split\n",
    "import copy\n",
    "\n",
    "X_train, Y_train = load_training_data(os.path.join('Data','train'))\n",
    "X_test, Y_test = load_training_data(os.path.join('Data','test'))\n",
    "\n",
    "#X_train, X_val, Y_train, Y_val = train_test_split(X_train, \n",
    "#                                                  Y_train,\n",
    "#                                                  test_size = 0.1, \n",
    "#                                                  random_state = 27,\n",
    "#                                                  stratify = Y_train)\n",
    "\n",
    "#Volteamos las imágenes de train\n",
    "X_train_2 = np.empty((0,48,48,1));\n",
    "X_aux = np.empty((0,48,48,1));\n",
    "Y_train_2 = np.empty((0,1))\n",
    "cont = 0\n",
    "gr = 0\n",
    "\n",
    "for img, sol in zip(X_train, Y_train):\n",
    "    img.reshape(48,48)\n",
    "    flipHorizontal = copy.deepcopy(img)\n",
    "    flipHorizontal = cv2.flip(flipHorizontal, 1)\n",
    "    flipHorizontal_np = np.array(flipHorizontal)\n",
    "    \n",
    "    X_aux = np.append(X_aux, img)\n",
    "    X_aux = np.append(X_aux, flipHorizontal_np)\n",
    "    Y_train_2 = np.append(Y_train_2, sol)\n",
    "    Y_train_2 = np.append(Y_train_2, sol)\n",
    "    cont = cont + 2\n",
    "    \n",
    "    if cont > 100:\n",
    "        X_train_2 = np.append(X_train_2, X_aux)\n",
    "        X_aux = np.empty((0,48,48,1));\n",
    "        cont = 0\n",
    "        gr = gr + 1\n",
    "        \n",
    "X_train_2 = np.append(X_train_2, X_aux)\n",
    "        \n",
    "X_train_2 = np.reshape(X_train_2, (-1,48,48,1))\n",
    "X_train = X_train_2\n",
    "\n",
    "Y_train = Y_train_2"
   ]
  },
  {
   "cell_type": "code",
   "execution_count": 6,
   "metadata": {},
   "outputs": [
    {
     "name": "stdout",
     "output_type": "stream",
     "text": [
      "Tamaño del conjunto de entrenamiento: (57354, 48, 48, 1)\n",
      "Tamaño del conjunto de test: (7178, 48, 48, 1)\n"
     ]
    }
   ],
   "source": [
    "print(\"Tamaño del conjunto de entrenamiento: \" + str(X_train.shape))\n",
    "#print(\"Tamaño del conjunto de validación: \" + str(X_val.shape))\n",
    "print(\"Tamaño del conjunto de test: \" + str(X_test.shape))"
   ]
  },
  {
   "cell_type": "markdown",
   "metadata": {},
   "source": [
    "Nuestra red neuronal espera una codificación one hot, de lo cual se encarga la siguiente función:"
   ]
  },
  {
   "cell_type": "code",
   "execution_count": 7,
   "metadata": {},
   "outputs": [],
   "source": [
    "'''\n",
    "Función que codifica un array a one-hot\n",
    "Argumentos: Y - vector a codificar\n",
    "            n - número de clases distintas\n",
    "Return: Y_one_hot - vector de vectores en codificación one hot\n",
    "'''\n",
    "def one_hot_encoding(Y, n = 7):\n",
    "    Y_one_hot = np.empty((0, n))\n",
    "    \n",
    "    for i in range(0, len(Y)):\n",
    "        np_oh = np.zeros(n)\n",
    "        np_oh[int(Y[i])] = 1\n",
    "        Y_one_hot = np.append(Y_one_hot, np_oh)\n",
    "        \n",
    "        \n",
    "    Y_one_hot = np.reshape(Y_one_hot, (-1, 7))\n",
    "    return Y_one_hot        "
   ]
  },
  {
   "cell_type": "code",
   "execution_count": 8,
   "metadata": {},
   "outputs": [
    {
     "name": "stdout",
     "output_type": "stream",
     "text": [
      "Tamaño del conjunto de entrenamiento: (57354, 7)\n",
      "Tamaño del conjunto de test: (7178, 7)\n"
     ]
    }
   ],
   "source": [
    "Y_test_oh = one_hot_encoding(Y_test)\n",
    "#Y_val_oh = one_hot_encoding(Y_val)\n",
    "Y_train_oh = one_hot_encoding(Y_train)\n",
    "\n",
    "print(\"Tamaño del conjunto de entrenamiento: \" + str(Y_train_oh.shape))\n",
    "#print(\"Tamaño del conjunto de validación: \" + str(Y_val_oh.shape))\n",
    "print(\"Tamaño del conjunto de test: \" + str(Y_test_oh.shape))"
   ]
  },
  {
   "cell_type": "code",
   "execution_count": 9,
   "metadata": {},
   "outputs": [],
   "source": [
    "#CARGAR EL MODELO\n",
    "modelN = tensorflow.keras.models.load_model('62_26')"
   ]
  },
  {
   "cell_type": "markdown",
   "metadata": {},
   "source": [
    "Comenzamos analizando cuales son los resultados de la red convolucional, viendo en cuántas fotos acierta el sentimiento en el conjunto de test."
   ]
  },
  {
   "cell_type": "code",
   "execution_count": 10,
   "metadata": {},
   "outputs": [],
   "source": [
    "#score = modelN.evaluate(X_val, Y_val_oh, verbose=0)\n",
    "#print (\"model %s: %.2f%%\" % (modelN.metrics_names[1], score[1]*100))"
   ]
  },
  {
   "cell_type": "code",
   "execution_count": 11,
   "metadata": {},
   "outputs": [
    {
     "name": "stdout",
     "output_type": "stream",
     "text": [
      "model accuracy: 62.26%\n"
     ]
    }
   ],
   "source": [
    "score = modelN.evaluate(X_test, Y_test_oh, verbose=0)\n",
    "print (\"model %s: %.2f%%\" % (modelN.metrics_names[1], score[1]*100))"
   ]
  },
  {
   "cell_type": "markdown",
   "metadata": {},
   "source": [
    "Ahora, vamos a sustituir el clasificador que empleamos al final, probando con varios distintos. Para ello, dividimos la red neuronal en dos partes: la que se encarga de extraer las \"features\" de la imagen y la que se encarga de transformar esas features en una clase."
   ]
  },
  {
   "cell_type": "code",
   "execution_count": 12,
   "metadata": {},
   "outputs": [
    {
     "name": "stdout",
     "output_type": "stream",
     "text": [
      "0 <tensorflow.python.keras.layers.convolutional.Conv2D object at 0x0000020A33152898>\n",
      "1 <tensorflow.python.keras.layers.convolutional.Conv2D object at 0x0000020A3318BDA0>\n",
      "2 <tensorflow.python.keras.layers.convolutional.Conv2D object at 0x0000020A341C8EF0>\n",
      "3 <tensorflow.python.keras.layers.pooling.AveragePooling2D object at 0x0000020A3C16D630>\n",
      "4 <tensorflow.python.keras.layers.convolutional.Conv2D object at 0x0000020A3C16DE48>\n",
      "5 <tensorflow.python.keras.layers.convolutional.Conv2D object at 0x0000020A3C187FD0>\n",
      "6 <tensorflow.python.keras.layers.convolutional.Conv2D object at 0x0000020A3C1A7208>\n",
      "7 <tensorflow.python.keras.layers.pooling.AveragePooling2D object at 0x0000020A3C1C18D0>\n",
      "8 <tensorflow.python.keras.layers.convolutional.Conv2D object at 0x0000020A3C1D7550>\n",
      "9 <tensorflow.python.keras.layers.convolutional.Conv2D object at 0x0000020A3C1C1DD8>\n",
      "10 <tensorflow.python.keras.layers.convolutional.Conv2D object at 0x0000020A0A724208>\n",
      "11 <tensorflow.python.keras.layers.pooling.AveragePooling2D object at 0x0000020A3C2177B8>\n",
      "12 <tensorflow.python.keras.layers.core.Flatten object at 0x0000020A3C217CC0>\n",
      "13 <tensorflow.python.keras.layers.core.Dense object at 0x0000020A3C217588>\n",
      "14 <tensorflow.python.keras.layers.core.Dense object at 0x0000020A3C2402E8>\n",
      "15 <tensorflow.python.keras.layers.core.Dense object at 0x0000020A3C252908>\n",
      "16 <tensorflow.python.keras.layers.core.Activation object at 0x0000020A3C26B8D0>\n"
     ]
    }
   ],
   "source": [
    "from keras import backend as K\n",
    "for l in range(len(modelN.layers)):\n",
    "    print(l, modelN.layers[l])"
   ]
  },
  {
   "cell_type": "code",
   "execution_count": 13,
   "metadata": {},
   "outputs": [],
   "source": [
    "getFeature = K.function([modelN.layers[0].input, K.learning_phase()],\n",
    "                        [modelN.layers[13].output])"
   ]
  },
  {
   "cell_type": "markdown",
   "metadata": {},
   "source": [
    "Esta función se encargará de a partir de un vector de imágenes, devolvernos para cada imagen su vectorización con las features extraídas por la CNN."
   ]
  },
  {
   "cell_type": "code",
   "execution_count": 14,
   "metadata": {},
   "outputs": [],
   "source": [
    "'''\n",
    "Función que vectoriza las imágenes\n",
    "Argumentos: X - vector con las imágenes\n",
    "Return: exTrain - vector con la vectorización de cada imagen\n",
    "'''\n",
    "def extract_features(X):\n",
    "    init_time = time.time()\n",
    "    exTrain = np.empty((0,64))\n",
    "    X_aux = np.empty((0,64))\n",
    "\n",
    "    for i in range(0, len(X)):\n",
    "        act = getFeature([X[i].reshape(1,48,48,1), 0])[0]\n",
    "      \n",
    "        X_aux = np.concatenate((X_aux, act), axis = 0)\n",
    "\n",
    "        if(i % 100 == 0):\n",
    "            exTrain = np.concatenate((exTrain, X_aux), axis = 0)\n",
    "            X_aux = np.empty((0,64))\n",
    "        if(i % 1000 == 0):\n",
    "            print(\"It \" + str(i))\n",
    "            #print(exTrain.shape)\n",
    "    exTrain = np.concatenate((exTrain, X_aux), axis = 0) \n",
    "    \n",
    "    print(exTrain.shape)\n",
    "    return exTrain"
   ]
  },
  {
   "cell_type": "code",
   "execution_count": 15,
   "metadata": {},
   "outputs": [
    {
     "name": "stdout",
     "output_type": "stream",
     "text": [
      "It 0\n",
      "It 1000\n",
      "It 2000\n",
      "It 3000\n",
      "It 4000\n",
      "It 5000\n",
      "It 6000\n",
      "It 7000\n",
      "It 8000\n",
      "It 9000\n",
      "It 10000\n",
      "It 11000\n",
      "It 12000\n",
      "It 13000\n",
      "It 14000\n",
      "It 15000\n",
      "It 16000\n",
      "It 17000\n",
      "It 18000\n",
      "It 19000\n",
      "It 20000\n",
      "It 21000\n",
      "It 22000\n",
      "It 23000\n",
      "It 24000\n",
      "It 25000\n",
      "It 26000\n",
      "It 27000\n",
      "It 28000\n",
      "It 29000\n",
      "It 30000\n",
      "It 31000\n",
      "It 32000\n",
      "It 33000\n",
      "It 34000\n",
      "It 35000\n",
      "It 36000\n",
      "It 37000\n",
      "It 38000\n",
      "It 39000\n",
      "It 40000\n",
      "It 41000\n",
      "It 42000\n",
      "It 43000\n",
      "It 44000\n",
      "It 45000\n",
      "It 46000\n",
      "It 47000\n",
      "It 48000\n",
      "It 49000\n",
      "It 50000\n",
      "It 51000\n",
      "It 52000\n",
      "It 53000\n",
      "It 54000\n",
      "It 55000\n",
      "It 56000\n",
      "It 57000\n",
      "(57354, 64)\n",
      "It 0\n",
      "It 1000\n",
      "It 2000\n",
      "It 3000\n",
      "It 4000\n",
      "It 5000\n",
      "It 6000\n",
      "It 7000\n",
      "(7178, 64)\n",
      "Tiempo empleado: 62.00932240486145\n"
     ]
    }
   ],
   "source": [
    "#Vectores con las features de cada conjunto\n",
    "import time\n",
    "\n",
    "init_time = time.time()\n",
    "X_train_features = extract_features(X_train)\n",
    "#X_val_features = extract_features(X_val)\n",
    "X_test_features = extract_features(X_test)\n",
    "\n",
    "print(\"Tiempo empleado: \" + str(time.time() - init_time))"
   ]
  },
  {
   "cell_type": "code",
   "execution_count": 16,
   "metadata": {},
   "outputs": [],
   "source": [
    "y_train_sv = Y_train.reshape(Y_train.shape[0],)\n",
    "#y_val_sv = Y_val.reshape(Y_val.shape[0],)\n",
    "y_test_sv = Y_test.reshape(Y_test.shape[0],)"
   ]
  },
  {
   "cell_type": "markdown",
   "metadata": {},
   "source": [
    "## Ajustamos el Random Forest"
   ]
  },
  {
   "cell_type": "code",
   "execution_count": 17,
   "metadata": {},
   "outputs": [
    {
     "data": {
      "text/plain": [
       "'\\nfrom sklearn.ensemble import RandomForestClassifier\\nimport time\\n\\ninit = time.time()\\nrclf = RandomForestClassifier(max_depth = None, max_features = \\'auto\\', min_samples_split = 5, min_samples_leaf = 3, bootstrap = False, criterion = \"gini\", n_estimators = 1000, n_jobs=-1)             \\nprint(rclf.fit(X_train_features, y_train_sv))\\nprint(time.time() - init)\\n'"
      ]
     },
     "execution_count": 17,
     "metadata": {},
     "output_type": "execute_result"
    }
   ],
   "source": [
    "'''\n",
    "from sklearn.ensemble import RandomForestClassifier\n",
    "import time\n",
    "\n",
    "init = time.time()\n",
    "rclf = RandomForestClassifier(max_depth = None, max_features = 'auto', min_samples_split = 5, min_samples_leaf = 3, bootstrap = False, criterion = \"gini\", n_estimators = 1000, n_jobs=-1)             \n",
    "print(rclf.fit(X_train_features, y_train_sv))\n",
    "print(time.time() - init)\n",
    "'''"
   ]
  },
  {
   "cell_type": "code",
   "execution_count": 18,
   "metadata": {},
   "outputs": [
    {
     "data": {
      "text/plain": [
       "\"\\nimport pickle\\n\\nfilename = 'RF 62,26 Primera densa'\\npickle.dump(rclf, open(filename, 'wb'))\\n\""
      ]
     },
     "execution_count": 18,
     "metadata": {},
     "output_type": "execute_result"
    }
   ],
   "source": [
    "#Guardamos el modelo\n",
    "'''\n",
    "import pickle\n",
    "\n",
    "filename = 'RF 62,26 Primera densa'\n",
    "pickle.dump(rclf, open(filename, 'wb'))\n",
    "'''"
   ]
  },
  {
   "cell_type": "markdown",
   "metadata": {},
   "source": [
    "## Examinamos los resultados obtenidos\n",
    "En caso de querer examinar directamente los resulados obtenidos, tendremos que ejecutar todo el notebook excepto las dos celdas anteriores (las de la sección \"Ajustamos el Random Forest\"). Por ello, tenemos que cargar el clasificador desde un archivo previamente guardado. Os hemos dejado preparado ya el nombre del archivo y el notebook con las celdas anteriores comentadas para que solo tengáis que ejecutarlo y obtengáis los resultados."
   ]
  },
  {
   "cell_type": "code",
   "execution_count": 19,
   "metadata": {},
   "outputs": [],
   "source": [
    "#Cargamos el modelo\n",
    "import pickle\n",
    "\n",
    "filename = 'RF 62,26 Primera densa'\n",
    "rclf = pickle.load(open(filename, 'rb'))"
   ]
  },
  {
   "cell_type": "code",
   "execution_count": 20,
   "metadata": {},
   "outputs": [],
   "source": [
    "import pandas as pd\n",
    "import seaborn as sn\n",
    "import matplotlib.pyplot as plt\n",
    "from sklearn.metrics import confusion_matrix\n",
    "\n",
    "\n",
    "def print_cmx(y_true, y_pred, cmap=plt.cm.Blues):\n",
    "    \"\"\"\n",
    "    The function is used to construct the confusion matrix \n",
    "    \"\"\"\n",
    "    cm = confusion_matrix(y_true, y_pred)\n",
    "    fig = plt.figure(figsize=(6,6))\n",
    "    mpl.rcParams.update({'font.size': 16})\n",
    "    ax  = fig.add_subplot(111)\n",
    "    matrix = ax.imshow(cm, interpolation='nearest', cmap=cmap)\n",
    "    fig.colorbar(matrix) \n",
    "    for i in range(0,7):\n",
    "        for j in range(0,7):  \n",
    "            ax.text(j,i,cm[i,j],va='center', ha='center')\n",
    "    labels = ['angry', 'disgust','fear', 'happy', 'neutral','sad', 'surprise']\n",
    "    ticks = np.arange(len(labels))\n",
    "    ax.set_xticks(ticks)\n",
    "    ax.set_xticklabels(labels, rotation=45)\n",
    "    ax.set_yticks(ticks)\n",
    "    ax.set_yticklabels(labels)\n",
    "    plt.tight_layout()\n",
    "    plt.ylabel('True label')\n",
    "    plt.xlabel('Predicted label')"
   ]
  },
  {
   "cell_type": "code",
   "execution_count": 21,
   "metadata": {},
   "outputs": [
    {
     "name": "stdout",
     "output_type": "stream",
     "text": [
      "              precision    recall  f1-score   support\n",
      "\n",
      "         0.0       0.95      0.94      0.94      7972\n",
      "         1.0       0.99      0.84      0.91       870\n",
      "         2.0       0.95      0.93      0.94      8188\n",
      "         3.0       0.97      0.98      0.97     14418\n",
      "         4.0       0.94      0.95      0.94      9918\n",
      "         5.0       0.93      0.96      0.94      9658\n",
      "         6.0       0.97      0.95      0.96      6330\n",
      "\n",
      "    accuracy                           0.95     57354\n",
      "   macro avg       0.96      0.94      0.95     57354\n",
      "weighted avg       0.95      0.95      0.95     57354\n",
      "\n",
      "Accuracy: 0.9533772709837152\n"
     ]
    },
    {
     "data": {
      "image/png": "[encoded data removed]",
      "text/plain": [
       "<Figure size 432x432 with 2 Axes>"
      ]
     },
     "metadata": {
      "needs_background": "light"
     },
     "output_type": "display_data"
    }
   ],
   "source": [
    "y_trainSVM = rclf.predict(X_train_features)\n",
    "\n",
    "from sklearn.metrics import confusion_matrix, classification_report, accuracy_score\n",
    "\n",
    "print_cmx(y_train_sv, y_trainSVM, cmap=plt.cm.YlGnBu)\n",
    "print(classification_report(y_train_sv, y_trainSVM))\n",
    "print(\"Accuracy: {0}\".format(accuracy_score(y_train_sv, y_trainSVM)))"
   ]
  },
  {
   "cell_type": "code",
   "execution_count": 22,
   "metadata": {},
   "outputs": [
    {
     "data": {
      "text/plain": [
       "'\\ny_valSVM = rclf.predict(X_val_features)\\n\\nfrom sklearn.metrics import confusion_matrix, classification_report, accuracy_score\\n\\nprint_cmx(y_val_sv, y_valSVM, cmap=plt.cm.YlGnBu)\\nprint(classification_report(y_val_sv, y_valSVM))\\nprint(\"Accuracy: {0}\".format(accuracy_score(y_val_sv, y_valSVM)))\\n'"
      ]
     },
     "execution_count": 22,
     "metadata": {},
     "output_type": "execute_result"
    }
   ],
   "source": [
    "'''\n",
    "y_valSVM = rclf.predict(X_val_features)\n",
    "\n",
    "from sklearn.metrics import confusion_matrix, classification_report, accuracy_score\n",
    "\n",
    "print_cmx(y_val_sv, y_valSVM, cmap=plt.cm.YlGnBu)\n",
    "print(classification_report(y_val_sv, y_valSVM))\n",
    "print(\"Accuracy: {0}\".format(accuracy_score(y_val_sv, y_valSVM)))\n",
    "'''"
   ]
  },
  {
   "cell_type": "code",
   "execution_count": 23,
   "metadata": {},
   "outputs": [
    {
     "name": "stdout",
     "output_type": "stream",
     "text": [
      "Número de fotografías: 7178\n",
      "Tiempo total: 1.3968021869659424\n",
      "Tiempo por fotografía: 0.0001945948992708195\n",
      "              precision    recall  f1-score   support\n",
      "\n",
      "         0.0       0.55      0.55      0.55       958\n",
      "         1.0       0.72      0.40      0.51       111\n",
      "         2.0       0.47      0.44      0.45      1024\n",
      "         3.0       0.84      0.84      0.84      1774\n",
      "         4.0       0.58      0.62      0.60      1233\n",
      "         5.0       0.48      0.50      0.49      1247\n",
      "         6.0       0.80      0.77      0.78       831\n",
      "\n",
      "    accuracy                           0.63      7178\n",
      "   macro avg       0.63      0.59      0.60      7178\n",
      "weighted avg       0.63      0.63      0.63      7178\n",
      "\n",
      "Accuracy: 0.6309556979660073\n"
     ]
    },
    {
     "data": {
      "image/png": "[encoded data removed]",
      "text/plain": [
       "<Figure size 432x432 with 2 Axes>"
      ]
     },
     "metadata": {
      "needs_background": "light"
     },
     "output_type": "display_data"
    }
   ],
   "source": [
    "init_time = time.time()\n",
    "y_testSVM = rclf.predict(X_test_features)\n",
    "fin_time = time.time()\n",
    "\n",
    "print(\"Número de fotografías: \" + str(len(X_test_features)))\n",
    "print(\"Tiempo total: \" + str(fin_time - init_time))\n",
    "print(\"Tiempo por fotografía: \" + str((fin_time - init_time)/len(X_test_features)))\n",
    "\n",
    "from sklearn.metrics import confusion_matrix, classification_report, accuracy_score\n",
    "\n",
    "print_cmx(y_test_sv, y_testSVM, cmap=plt.cm.YlGnBu)\n",
    "print(classification_report(y_test_sv, y_testSVM))\n",
    "print(\"Accuracy: {0}\".format(accuracy_score(y_test_sv, y_testSVM)))"
   ]
  },
  {
   "cell_type": "code",
   "execution_count": 24,
   "metadata": {},
   "outputs": [
    {
     "data": {
      "image/png": "[encoded data removed]",
      "text/plain": [
       "<Figure size 432x288 with 1 Axes>"
      ]
     },
     "metadata": {
      "needs_background": "light"
     },
     "output_type": "display_data"
    }
   ],
   "source": [
    "int_y_test_pred = [int(res) for res in y_testSVM]\n",
    "int_y_test_true = [int(res) for res in y_test_sv]\n",
    "#for i in range(0,len(y_testSVM)):\n",
    "#    y_testSVM[i] = int(y_testSVM[i])\n",
    "\n",
    "def plot_distribution2(y_true, y_pred):\n",
    "    \"\"\"\n",
    "    The function is used to compare the number of true labels as well as prediction results\n",
    "    \"\"\"\n",
    "    #colorset = Dark2_7.get_mpl_colormap() #brewer2mpl.get_map('Set3', 'qualitative', 6).mpl_colors\n",
    "    ind = np.arange(1.5,8,1)  # the x locations for the groups\n",
    "    width = 0.35   \n",
    "    fig, ax = plt.subplots()\n",
    "    true = ax.bar(ind, np.bincount(y_true), width, alpha=1.0)\n",
    "    pred = ax.bar(ind + width, np.bincount(y_pred), width, alpha=0.3)\n",
    "    ax.set_xticks(np.arange(1.5,8,1))\n",
    "    labels = ['angry', 'disgust','fear', 'happy', 'neutral','sad', 'surprise']\n",
    "    ax.set_xticklabels(labels, rotation=30, fontsize=14)\n",
    "    ax.set_xlim([1.25, 8.1])\n",
    "    ax.set_ylim([0, 2000])\n",
    "    ax.set_title('True and Predicted Label Count (Private)')\n",
    "    plt.tight_layout()\n",
    "    plt.show()\n",
    "    \n",
    "#print(y_test_sv.shape)\n",
    "#print(y_testSVM.shape)\n",
    "plot_distribution2(int_y_test_true, int_y_test_pred)"
   ]
  }
 ],
 "metadata": {
  "kernelspec": {
   "display_name": "Python 3",
   "language": "python",
   "name": "python3"
  },
  "language_info": {
   "codemirror_mode": {
    "name": "ipython",
    "version": 3
   },
   "file_extension": ".py",
   "mimetype": "text/x-python",
   "name": "python",
   "nbconvert_exporter": "python",
   "pygments_lexer": "ipython3",
   "version": "3.7.1"
  }
 },
 "nbformat": 4,
 "nbformat_minor": 4
}
